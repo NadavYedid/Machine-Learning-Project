{
 "cells": [
  {
   "cell_type": "markdown",
   "id": "08d1f335",
   "metadata": {},
   "source": [
    "## Final project - Data Mining and Analysis\n",
    "### Part 2\n",
    "#### `Team Volvo`\n",
    "#### *Nadav Yedid*\n",
    "#### *Roee Brown*"
   ]
  },
  {
   "cell_type": "code",
   "execution_count": 1,
   "id": "c1e7fe7a",
   "metadata": {},
   "outputs": [],
   "source": [
    "import pandas as pd\n",
    "import numpy as np\n",
    "import seaborn as sns\n",
    "import matplotlib.pyplot as plt\n",
    "import re\n",
    "import math\n",
    "import statsmodels.api as sm\n",
    "from statsmodels.stats.outliers_influence import variance_inflation_factor\n",
    "import ppscore as pps\n",
    "from sklearn.preprocessing import OneHotEncoder\n",
    "from sklearn.model_selection import train_test_split, GridSearchCV, cross_val_score, KFold\n",
    "from sklearn.linear_model import ElasticNet, ElasticNetCV\n",
    "from sklearn.metrics import mean_squared_error as mse, r2_score\n",
    "from scipy import sparse, stats\n",
    "from html import unescape\n",
    "\n",
    "import warnings\n",
    "warnings.filterwarnings('ignore')"
   ]
  },
  {
   "cell_type": "code",
   "execution_count": 2,
   "id": "3c6164ac",
   "metadata": {},
   "outputs": [
    {
     "data": {
      "text/html": [
       "<div>\n",
       "<style scoped>\n",
       "    .dataframe tbody tr th:only-of-type {\n",
       "        vertical-align: middle;\n",
       "    }\n",
       "\n",
       "    .dataframe tbody tr th {\n",
       "        vertical-align: top;\n",
       "    }\n",
       "\n",
       "    .dataframe thead th {\n",
       "        text-align: right;\n",
       "    }\n",
       "</style>\n",
       "<table border=\"1\" class=\"dataframe\">\n",
       "  <thead>\n",
       "    <tr style=\"text-align: right;\">\n",
       "      <th></th>\n",
       "      <th>manufactor</th>\n",
       "      <th>Year</th>\n",
       "      <th>model</th>\n",
       "      <th>Hand</th>\n",
       "      <th>Gear</th>\n",
       "      <th>capacity_Engine</th>\n",
       "      <th>Engine_type</th>\n",
       "      <th>Prev_ownership</th>\n",
       "      <th>Curr_ownership</th>\n",
       "      <th>Area</th>\n",
       "      <th>City</th>\n",
       "      <th>Price</th>\n",
       "      <th>Pic_num</th>\n",
       "      <th>Cre_date</th>\n",
       "      <th>Repub_date</th>\n",
       "      <th>Description</th>\n",
       "      <th>Color</th>\n",
       "      <th>Km</th>\n",
       "      <th>Test</th>\n",
       "      <th>Supply_score</th>\n",
       "    </tr>\n",
       "  </thead>\n",
       "  <tbody>\n",
       "    <tr>\n",
       "      <th>1061</th>\n",
       "      <td>פולקסווגן</td>\n",
       "      <td>2011</td>\n",
       "      <td>שירוקו</td>\n",
       "      <td>4</td>\n",
       "      <td>אוטומטית</td>\n",
       "      <td>1390</td>\n",
       "      <td>בנזין</td>\n",
       "      <td>NaN</td>\n",
       "      <td>NaN</td>\n",
       "      <td>NaN</td>\n",
       "      <td>פקיעין</td>\n",
       "      <td>46000.0</td>\n",
       "      <td>1.0</td>\n",
       "      <td>09/09/2022</td>\n",
       "      <td>09/09/2022</td>\n",
       "      <td>['רכב שמור \\r\\n160כ\"ס\\r\\nעם מערכת']</td>\n",
       "      <td>NaN</td>\n",
       "      <td>257</td>\n",
       "      <td>NaN</td>\n",
       "      <td>NaN</td>\n",
       "    </tr>\n",
       "    <tr>\n",
       "      <th>1035</th>\n",
       "      <td>מאזדה</td>\n",
       "      <td>2013</td>\n",
       "      <td>מאזדה 3</td>\n",
       "      <td>3</td>\n",
       "      <td>אוטומטית</td>\n",
       "      <td>2000</td>\n",
       "      <td>בנזין</td>\n",
       "      <td>חברה</td>\n",
       "      <td>פרטית</td>\n",
       "      <td>קיסריה והסביבה</td>\n",
       "      <td>אור עקיבא</td>\n",
       "      <td>24000.0</td>\n",
       "      <td>2.0</td>\n",
       "      <td>12/07/2023</td>\n",
       "      <td>12/07/2023</td>\n",
       "      <td>['מזדה 3 מנוע 2000 הדגם עם 150 כוח סוס\\nמתחייב...</td>\n",
       "      <td>שחור</td>\n",
       "      <td>200000</td>\n",
       "      <td>NaN</td>\n",
       "      <td>736.0</td>\n",
       "    </tr>\n",
       "    <tr>\n",
       "      <th>571</th>\n",
       "      <td>הונדה</td>\n",
       "      <td>2011</td>\n",
       "      <td>סיוויק</td>\n",
       "      <td>4</td>\n",
       "      <td>אוטומטית</td>\n",
       "      <td>1800</td>\n",
       "      <td>בנזין</td>\n",
       "      <td>לא מוגדר</td>\n",
       "      <td>לא מוגדר</td>\n",
       "      <td>עכו - נהריה</td>\n",
       "      <td>עכו</td>\n",
       "      <td>30000.0</td>\n",
       "      <td>1.0</td>\n",
       "      <td>27/10/2022</td>\n",
       "      <td>27/10/2022</td>\n",
       "      <td>['רכב מסוג הונדה סיוויק 2011, הרכב נסע 147,445...</td>\n",
       "      <td>NaN</td>\n",
       "      <td>147445</td>\n",
       "      <td>NaN</td>\n",
       "      <td>NaN</td>\n",
       "    </tr>\n",
       "  </tbody>\n",
       "</table>\n",
       "</div>"
      ],
      "text/plain": [
       "     manufactor  Year    model  Hand      Gear capacity_Engine Engine_type  \\\n",
       "1061  פולקסווגן  2011   שירוקו     4  אוטומטית            1390       בנזין   \n",
       "1035      מאזדה  2013  מאזדה 3     3  אוטומטית            2000       בנזין   \n",
       "571       הונדה  2011   סיוויק     4  אוטומטית            1800       בנזין   \n",
       "\n",
       "     Prev_ownership Curr_ownership            Area       City    Price  \\\n",
       "1061            NaN            NaN             NaN     פקיעין  46000.0   \n",
       "1035           חברה          פרטית  קיסריה והסביבה  אור עקיבא  24000.0   \n",
       "571        לא מוגדר       לא מוגדר     עכו - נהריה        עכו  30000.0   \n",
       "\n",
       "      Pic_num    Cre_date  Repub_date  \\\n",
       "1061      1.0  09/09/2022  09/09/2022   \n",
       "1035      2.0  12/07/2023  12/07/2023   \n",
       "571       1.0  27/10/2022  27/10/2022   \n",
       "\n",
       "                                            Description Color      Km Test  \\\n",
       "1061                ['רכב שמור \\r\\n160כ\"ס\\r\\nעם מערכת']   NaN     257  NaN   \n",
       "1035  ['מזדה 3 מנוע 2000 הדגם עם 150 כוח סוס\\nמתחייב...  שחור  200000  NaN   \n",
       "571   ['רכב מסוג הונדה סיוויק 2011, הרכב נסע 147,445...   NaN  147445  NaN   \n",
       "\n",
       "      Supply_score  \n",
       "1061           NaN  \n",
       "1035         736.0  \n",
       "571            NaN  "
      ]
     },
     "execution_count": 2,
     "metadata": {},
     "output_type": "execute_result"
    }
   ],
   "source": [
    "data = pd.read_csv(\"dataset.csv\")\n",
    "cars_df = data.copy()\n",
    "cars_df.sample(3)"
   ]
  },
  {
   "cell_type": "code",
   "execution_count": 3,
   "id": "97964bca",
   "metadata": {},
   "outputs": [
    {
     "name": "stdout",
     "output_type": "stream",
     "text": [
      "<class 'pandas.core.frame.DataFrame'>\n",
      "RangeIndex: 1500 entries, 0 to 1499\n",
      "Data columns (total 20 columns):\n",
      " #   Column           Non-Null Count  Dtype  \n",
      "---  ------           --------------  -----  \n",
      " 0   manufactor       1500 non-null   object \n",
      " 1   Year             1500 non-null   int64  \n",
      " 2   model            1500 non-null   object \n",
      " 3   Hand             1500 non-null   int64  \n",
      " 4   Gear             1499 non-null   object \n",
      " 5   capacity_Engine  1474 non-null   object \n",
      " 6   Engine_type      1495 non-null   object \n",
      " 7   Prev_ownership   774 non-null    object \n",
      " 8   Curr_ownership   774 non-null    object \n",
      " 9   Area             1361 non-null   object \n",
      " 10  City             1500 non-null   object \n",
      " 11  Price            1500 non-null   float64\n",
      " 12  Pic_num          1476 non-null   float64\n",
      " 13  Cre_date         1500 non-null   object \n",
      " 14  Repub_date       1500 non-null   object \n",
      " 15  Description      1500 non-null   object \n",
      " 16  Color            787 non-null    object \n",
      " 17  Km               1412 non-null   object \n",
      " 18  Test             139 non-null    object \n",
      " 19  Supply_score     439 non-null    float64\n",
      "dtypes: float64(3), int64(2), object(15)\n",
      "memory usage: 234.5+ KB\n"
     ]
    }
   ],
   "source": [
    "cars_df.info()"
   ]
  },
  {
   "cell_type": "markdown",
   "id": "505c99f0",
   "metadata": {},
   "source": [
    "#### A function that remove duplicte rows:"
   ]
  },
  {
   "cell_type": "code",
   "execution_count": 4,
   "id": "251e4a45",
   "metadata": {},
   "outputs": [],
   "source": [
    "def remove_duplicates(df):\n",
    "    df = df.drop_duplicates()\n",
    "    \n",
    "    return df"
   ]
  },
  {
   "cell_type": "markdown",
   "id": "ace8d965",
   "metadata": {},
   "source": [
    "#### According to what we have seen, there are duplicates in the names of the manufacturers and models.\n",
    "#### Therefore, we built functions that would unify the names:"
   ]
  },
  {
   "cell_type": "code",
   "execution_count": 5,
   "id": "ea53708a",
   "metadata": {},
   "outputs": [],
   "source": [
    "def unify_manufacturer(df, column_name = \"manufactor\"):\n",
    "\n",
    "    df[column_name] = df[column_name].replace(\"Lexsus\", \"לקסוס\")\n",
    "    \n",
    "    return df"
   ]
  },
  {
   "cell_type": "code",
   "execution_count": 6,
   "id": "20c576f0",
   "metadata": {},
   "outputs": [],
   "source": [
    "def modify_model_name(df, column_name = \"model\"):\n",
    "    manufacturers = ['יונדאי', 'ניסאן', 'סוזוקי', 'טויוטה', 'קיה', 'אאודי', 'סובארו',\n",
    "       'מיצובישי', 'מרצדס', 'ב.מ.וו', 'אופל', 'הונדה', 'פולקסווגן',\n",
    "       'שברולט', 'מאזדה', 'וולוו', 'סקודה', 'פורד', 'לקסוס', 'קרייזלר',\n",
    "       'סיטרואן', \"פיג'ו\", 'רנו', 'דייהטסו', 'מיני', 'אלפא רומיאו']\n",
    "    \n",
    "    # Define the pattern to remove manufacturer names at the beginning or end\n",
    "    pattern = r'\\b(?:' + '|'.join(manufacturers) + r')\\b'\n",
    "    \n",
    "    # Apply the regex substitution to remove manufacturer names and trim spaces\n",
    "    df[column_name] = df[column_name].apply(lambda x: re.sub(pattern, '', x.strip().replace('`', \"'\")).strip())\n",
    "    \n",
    "    # Remove years in parentheses from the model names\n",
    "    df[column_name] = df[column_name].apply(lambda x: re.sub(r'\\s*\\(\\d{4}\\)', '', x))\n",
    "    \n",
    "    return df"
   ]
  },
  {
   "cell_type": "code",
   "execution_count": 7,
   "id": "403b17a6",
   "metadata": {},
   "outputs": [],
   "source": [
    "def unify_model_names(df, column_name = \"model\"):\n",
    "    replacements = {\n",
    "        \"CIVIC\": \"סיוויק\",\n",
    "        \"C-Class קופה\": \"C-Class\",\n",
    "        \"C-CLASS קופה\": \"C-Class\",\n",
    "        \"E- CLASS\": \"E-Class\",\n",
    "        \"E-Class קופה / קבריולט\": \"E-Class\",\n",
    "        \"מיטו / MITO\": \"מיטו\",\n",
    "        \"גראנד, וויאג`ר\": \"גראנד, וויאג'ר\",\n",
    "        \"וויאג`ר\": \"וויאג'ר\",\n",
    "        \"GS300\": \"GS300\",\n",
    "        \"IS250\": \"IS250\",\n",
    "        \"IS300H\": \"IS300H\",\n",
    "        \"IS300h\": \"IS300H\",\n",
    "        \"RC\": \"RC\",\n",
    "        \"CT200H\": \"CT200H\",\n",
    "        \"ג'וק JUKE\": \"ג'וק\",\n",
    "        \"סיטיגו / Citygo\": \"סיטיגו\",\n",
    "        \"ACCORD\": \"אקורד\"}\n",
    "    \n",
    "    df.loc[:, column_name] = df[column_name].replace(replacements)    \n",
    "    \n",
    "    return df"
   ]
  },
  {
   "cell_type": "markdown",
   "id": "cb8ebed6",
   "metadata": {},
   "source": [
    "> #### We chose to fill in the missing values in the Gear column according to the most common type of gear in that vehicle model.\n",
    "> #### If the value is still missing, we will fill it according to the most common gear type for each manufacturer.\n",
    "> #### In addition, we combined the values \"אוטומט\" & \"אוטומטית\"."
   ]
  },
  {
   "cell_type": "code",
   "execution_count": 8,
   "id": "496bb25f",
   "metadata": {},
   "outputs": [],
   "source": [
    "def fill_Gear(df, column_name = \"Gear\", model_column = \"model\", manufactor_column = \"manufactor\"):\n",
    "\n",
    "    df[column_name] = df[column_name].replace(\"אוטומט\", \"אוטומטית\")\n",
    "    \n",
    "    most_common_model = df.groupby(model_column)[column_name].agg(lambda x: x.mode().iloc[0]\n",
    "                                                                                 if not x.mode().empty\n",
    "                                                                                 else None)\n",
    "    \n",
    "    df[column_name] = df.apply(lambda row: most_common_model[row[model_column]]\n",
    "                               if pd.isnull(row[column_name])\n",
    "                               else row[column_name], axis = 1)\n",
    "    \n",
    "    most_common_manufactor = df.groupby(manufactor_column)[column_name].agg(lambda x: x.mode().iloc[0]\n",
    "                                                                                           if not x.mode().empty\n",
    "                                                                                           else None)\n",
    "    \n",
    "    df[column_name] = df.apply(lambda row: most_common_manufactor[row[manufactor_column]]\n",
    "                               if pd.isnull(row[column_name])\n",
    "                               else row[column_name], axis = 1)\n",
    "    \n",
    "    return df"
   ]
  },
  {
   "cell_type": "markdown",
   "id": "c17fd19e",
   "metadata": {},
   "source": [
    "> #### In the column of capacity_engine, we chose to fill in missing values in the average engine capacity according to the vehicle model.\n",
    "> #### Then, if there were still missing values, we filled in the values with the average engine volume by manufacturer."
   ]
  },
  {
   "cell_type": "code",
   "execution_count": 9,
   "id": "3dff7108",
   "metadata": {},
   "outputs": [],
   "source": [
    "def modify_capacity_engine(df, column_name = \"capacity_Engine\"):\n",
    "   \n",
    "    try:\n",
    "        df[column_name] = pd.to_numeric(df[column_name].str.replace(',', ''), errors = \"coerce\").round(2)\n",
    "    except AttributeError:\n",
    "        df[column_name] = pd.to_numeric(df[column_name], errors = \"coerce\").round(2)\n",
    "    \n",
    "    if df[column_name].isnull().any():\n",
    "        average_model = df.groupby(\"model\")[column_name].transform(\"mean\")\n",
    "        \n",
    "        df[column_name].fillna(average_model, inplace = True)\n",
    "        \n",
    "    if df[column_name].isnull().any():\n",
    "        average_manufactor = df.groupby(\"manufactor\")[column_name].transform(\"mean\")\n",
    "        \n",
    "        df[column_name].fillna(average_manufactor, inplace = True)\n",
    "    \n",
    "    return df"
   ]
  },
  {
   "cell_type": "markdown",
   "id": "e3c7c33a",
   "metadata": {},
   "source": [
    "> #### We chose to fill in the missing values in the Engine_type column according to the most common type of engine type in that vehicle model.\n",
    "> #### If the value is still missing, we will fill it according to the most common engine type type for each manufacturer.\n",
    "> #### In addition, we combined the values \"היבריד\" & \"היברידי\"."
   ]
  },
  {
   "cell_type": "code",
   "execution_count": 10,
   "id": "1263ccd2",
   "metadata": {},
   "outputs": [],
   "source": [
    "def fill_engine_types(df, column_name = \"Engine_type\", model_column = \"model\", manufactor_column = \"manufactor\"):\n",
    "\n",
    "    df[column_name] = df[column_name].replace(\"היברידי\", \"היבריד\")\n",
    "    \n",
    "    most_common_model = df.groupby(model_column)[column_name].agg(lambda x: x.mode().iloc[0]\n",
    "                                                                                 if not x.mode().empty\n",
    "                                                                                 else None)\n",
    "    \n",
    "    df[column_name] = df.apply(lambda row: most_common_model[row[model_column]]\n",
    "                               if pd.isnull(row[column_name])\n",
    "                               else row[column_name], axis = 1)\n",
    "    \n",
    "    most_common_manufactor = df.groupby(manufactor_column)[column_name].agg(lambda x: x.mode().iloc[0]\n",
    "                                                                                           if not x.mode().empty\n",
    "                                                                                           else None)\n",
    "    \n",
    "    df[column_name] = df.apply(lambda row: most_common_manufactor[row[manufactor_column]]\n",
    "                               if pd.isnull(row[column_name])\n",
    "                               else row[column_name], axis = 1)\n",
    "    \n",
    "    return df"
   ]
  },
  {
   "cell_type": "markdown",
   "id": "6ecd0231",
   "metadata": {},
   "source": [
    "> #### According to what we have seen, there are many values that are defined as unknown.\n",
    "> #### Therefore, we decided to define the missing values as unknown as well."
   ]
  },
  {
   "cell_type": "code",
   "execution_count": 11,
   "id": "d2237a1e",
   "metadata": {},
   "outputs": [],
   "source": [
    "def fill_ownership(df, column_name = [\"Prev_ownership\", \"Curr_ownership\"]):\n",
    "    replacements = {\n",
    "        \"None\": \"לא מוגדר\",\n",
    "        np.nan: \"לא מוגדר\"}\n",
    "    \n",
    "    df[column_name] = df[column_name].replace(replacements)\n",
    "    \n",
    "    return df"
   ]
  },
  {
   "cell_type": "markdown",
   "id": "f1dd16e8",
   "metadata": {},
   "source": [
    "#### A function that combines names of cities:"
   ]
  },
  {
   "cell_type": "code",
   "execution_count": 12,
   "id": "4215878f",
   "metadata": {},
   "outputs": [],
   "source": [
    "def unify_city_names(df, column_name = \"City\"):\n",
    "    replacements = {\n",
    "        \"Rishon LeTsiyon\": \"ראשון לציון\",\n",
    "        \"Tel aviv\": \"תל אביב\",\n",
    "        \"Tzur Natan\": \"צור נתן\",\n",
    "        \"ashdod\": \"אשדוד\",\n",
    "        \"haifa\": \"חיפה\",\n",
    "        \"Rehovot\": \"רחובות\",\n",
    "        \"jeruslem\": \"ירושלים\",\n",
    "        \"בית ג'ן\": \"בית ג'אן\",\n",
    "        \"גבעתיי\": \"גבעתיים\",\n",
    "        \"גבעתי\": \"גבעתיים\",\n",
    "        \"חיפ\": \"חיפה\", \n",
    "        \"טירת כרמל\": \"טירת הכרמל\",\n",
    "        \"יוקנעם עילית\": \"יקנעם עילית\",\n",
    "        \"נהרייה\": \"נהריה\",\n",
    "        \"נתנייה\": \"נתניה\",\n",
    "        \"פתח תיקווה\": \"פתח תקווה\",\n",
    "        \"פתח\": \"פתח תקווה\",\n",
    "        \"פתח תקווה,יהוד\": \"פתח תקווה\",\n",
    "        \"ק.אתא\": \"קרית אתא\",\n",
    "        \"קריית אתא\": \"קרית אתא\",\n",
    "        \"קריית ביאליק\": \"קרית ביאליק\",\n",
    "        \"קריית טבעון\": \"קרית טבעון\",\n",
    "        \"קריית ים\": \"קרית ים\",\n",
    "        \"ראשון\": \"ראשון לציון\",\n",
    "        \"תל אבייב\": \"תל אביב\",\n",
    "        \"תל אביב יפו\": \"תל אביב\"}\n",
    "    \n",
    "    df.loc[:, column_name] = df[column_name].replace(replacements)    \n",
    "    \n",
    "    return df"
   ]
  },
  {
   "cell_type": "markdown",
   "id": "2ed6b32a",
   "metadata": {},
   "source": [
    "#### We chose to fill in the missing values of the number of images according to the total median value of the number of the images."
   ]
  },
  {
   "cell_type": "code",
   "execution_count": 13,
   "id": "edaf8acf",
   "metadata": {},
   "outputs": [],
   "source": [
    "def fill_Pic_num(df, column_name = \"Pic_num\"):\n",
    "    \n",
    "    median_photos = df[column_name].median()\n",
    "    median_photos_rounded_down = math.floor(median_photos)\n",
    "    \n",
    "    df[column_name].fillna(median_photos_rounded_down, inplace = True)\n",
    "    \n",
    "    return df"
   ]
  },
  {
   "cell_type": "code",
   "execution_count": 14,
   "id": "eb95ce1c",
   "metadata": {},
   "outputs": [],
   "source": [
    "def fill_Color(df, column_name = \"Color\"):\n",
    "    replacements = {\n",
    "        \"None\": \"לא מוגדר\",\n",
    "        np.nan: \"לא מוגדר\"}\n",
    "    \n",
    "    df[column_name] = df[column_name].replace(replacements)\n",
    "    \n",
    "    return df"
   ]
  },
  {
   "cell_type": "markdown",
   "id": "d8feadce",
   "metadata": {},
   "source": [
    "#### A function that replaces the NaN and \"0\" values in the Km column with the average of the kilometers traveled by that car per year:"
   ]
  },
  {
   "cell_type": "code",
   "execution_count": 15,
   "id": "aab9f295",
   "metadata": {},
   "outputs": [],
   "source": [
    "def fill_Km(df, column_name = \"Km\"):\n",
    "    try:\n",
    "        df[column_name] = pd.to_numeric(df[column_name].str.replace(',', ''), errors = \"coerce\")\n",
    "    except AttributeError:\n",
    "        df[column_name] = pd.to_numeric(df[column_name], errors = \"coerce\")\n",
    "    \n",
    "    df[column_name] = df[column_name].replace(0, np.nan)\n",
    "    \n",
    "    if df[column_name].isnull().any():\n",
    "        df[column_name] = df[column_name].fillna(((df[\"Km\"] / (2024 - df[\"Year\"])).mean()) * (2024 - df[\"Year\"]))\n",
    "    \n",
    "    return df"
   ]
  },
  {
   "cell_type": "markdown",
   "id": "8cf872b9",
   "metadata": {},
   "source": [
    "#### A function that changes the Km values that are lower than 1,000:"
   ]
  },
  {
   "cell_type": "code",
   "execution_count": 16,
   "id": "d569ad0d",
   "metadata": {},
   "outputs": [],
   "source": [
    "def modify_Km(df, column_name = \"Km\"):\n",
    "    df[column_name] = df[column_name].apply(lambda x: x * 1000 if x < 1000 else x)\n",
    "    \n",
    "    return df"
   ]
  },
  {
   "cell_type": "markdown",
   "id": "bf8774f5",
   "metadata": {},
   "source": [
    "#### A function that cleans the description of unwanted characters:"
   ]
  },
  {
   "cell_type": "code",
   "execution_count": 17,
   "id": "498a143d",
   "metadata": {},
   "outputs": [],
   "source": [
    "def clean_description(df, column_name = \"Description\"):\n",
    "    \n",
    "    # Function to clean a single description\n",
    "    def clean_single_description(column_name = \"Description\"):\n",
    "        # Remove HTML tags and entities\n",
    "        cleaned_desc = re.sub(r'<.*?>', '', column_name)  # Remove HTML tags\n",
    "        cleaned_desc = unescape(cleaned_desc)  # Convert HTML entities to characters\n",
    "        \n",
    "        # Remove extra whitespace\n",
    "        cleaned_desc = re.sub(r'\\s+', ' ', cleaned_desc).strip()\n",
    "        \n",
    "        # Optionally, add more cleaning steps as needed\n",
    "        \n",
    "        return cleaned_desc\n",
    "    \n",
    "    # Apply the cleaning function to each row in the specified column\n",
    "    df[column_name] = df[column_name].apply(clean_single_description)\n",
    "    \n",
    "    return df"
   ]
  },
  {
   "cell_type": "markdown",
   "id": "498238ae",
   "metadata": {},
   "source": [
    "#### Fill missing values with the median"
   ]
  },
  {
   "cell_type": "code",
   "execution_count": 18,
   "id": "95cd6fa3",
   "metadata": {},
   "outputs": [],
   "source": [
    "def fill_supply_score(df, column_name = \"Supply_score\"):\n",
    "    median_supply_score = df[column_name].median()\n",
    "    \n",
    "    df[column_name].fillna(median_supply_score, inplace = True)\n",
    "    \n",
    "    return df"
   ]
  },
  {
   "cell_type": "markdown",
   "id": "3d085630",
   "metadata": {},
   "source": [
    "### <span style = \"color:blue\" > A function that fills in the missing values: </span>"
   ]
  },
  {
   "cell_type": "code",
   "execution_count": 19,
   "id": "e019cc93",
   "metadata": {},
   "outputs": [],
   "source": [
    "def data_filling(df):\n",
    "    df = remove_duplicates(df)\n",
    "    df = unify_manufacturer(df)\n",
    "    df = modify_model_name(df)\n",
    "    df = unify_model_names(df)\n",
    "    df = fill_Gear(df)\n",
    "    df = modify_capacity_engine(df)\n",
    "    df = fill_engine_types(df)\n",
    "    df = fill_ownership(df)\n",
    "    df = unify_city_names(df)\n",
    "    df = fill_Pic_num(df)\n",
    "    df = fill_Color(df)\n",
    "    df = fill_Km(df)\n",
    "    df = modify_Km(df)\n",
    "    df = clean_description(df)\n",
    "    df = fill_supply_score(df)\n",
    "    \n",
    "    df = df.reset_index(drop = True)\n",
    "    \n",
    "    return df"
   ]
  },
  {
   "cell_type": "markdown",
   "id": "4b1db7c4",
   "metadata": {},
   "source": [
    "### Adding features:\n",
    "#### We think that the average number of kilometers per year that the car travels is important for determining its price, so we created a function that will check how many on average the car traveled each year:"
   ]
  },
  {
   "cell_type": "code",
   "execution_count": 20,
   "id": "4d6bc094",
   "metadata": {},
   "outputs": [],
   "source": [
    "def vehicle_usage(df):\n",
    "\n",
    "    df[\"Year\"] = df[\"Year\"].astype(int)\n",
    "    \n",
    "    current_year = pd.Timestamp.now().year\n",
    "    \n",
    "    df[\"Vehicle_Age\"] = current_year - df[\"Year\"]\n",
    "    \n",
    "    df[\"Avg_Km_Per_Year\"] = (df[\"Km\"] / df[\"Vehicle_Age\"]).round().astype(int)\n",
    "    \n",
    "    conditions = [\n",
    "        (df[\"Avg_Km_Per_Year\"] > 15000),\n",
    "        (df[\"Avg_Km_Per_Year\"] < 10000),\n",
    "        (df[\"Avg_Km_Per_Year\"].between(10000, 15000, inclusive = \"left\"))]\n",
    "        # inclusive = \"left\": values equal to 10000 are included, values equal to 15000 are not included.\n",
    "    \n",
    "    choices = [\"Above Range\", \"Below Range\", \"In Range\"]\n",
    "    \n",
    "    df[\"Usage_Category\"] = np.select(conditions, choices, default = \"In Range\")\n",
    "    \n",
    "    return df"
   ]
  },
  {
   "cell_type": "markdown",
   "id": "dfe295b4",
   "metadata": {},
   "source": [
    "#### We think that the age of the vehicle is important for determining its price, that's why we created a function that will check the age of the vehicle:"
   ]
  },
  {
   "cell_type": "code",
   "execution_count": 21,
   "id": "7cdf2cd4",
   "metadata": {},
   "outputs": [],
   "source": [
    "def vehicle_age(df):\n",
    "    current_year = pd.Timestamp.now().year\n",
    "    \n",
    "    df['Vehicle_Age'] = current_year - df['Year']\n",
    "    \n",
    "    def age_category(age):\n",
    "        if age < 3:\n",
    "            return 'Very New'\n",
    "        elif 3 <= age <= 8:\n",
    "            return 'New'\n",
    "        elif 8 < age < 15:\n",
    "            return 'Reasonable'\n",
    "        elif 15 < age < 19:\n",
    "            return 'Old'\n",
    "        elif 19 <= age <= 30:\n",
    "            return 'Very Old'\n",
    "        else:\n",
    "            return 'Collectors Vehicle'\n",
    "    \n",
    "    df['Age_Category'] = df['Vehicle_Age'].apply(age_category)\n",
    "    \n",
    "    return df"
   ]
  },
  {
   "cell_type": "markdown",
   "id": "19480080",
   "metadata": {},
   "source": [
    "### <span style = \"color:blue\" > A function that will insert the new features into the data: </span>"
   ]
  },
  {
   "cell_type": "code",
   "execution_count": 22,
   "id": "c2320acc",
   "metadata": {},
   "outputs": [],
   "source": [
    "def add_features(df):\n",
    "    df = vehicle_usage(df)\n",
    "    df = vehicle_age(df)\n",
    "    \n",
    "    return df"
   ]
  },
  {
   "cell_type": "markdown",
   "id": "0ad71139",
   "metadata": {},
   "source": [
    "#### In order to examine the data in a better way, we decided to filter values that appear relatively rarely in the data.\n",
    "#### That's why we created a function that filters out values that appear less than 100 times in the data."
   ]
  },
  {
   "cell_type": "code",
   "execution_count": 23,
   "id": "52e2e12d",
   "metadata": {},
   "outputs": [],
   "source": [
    "def group_low_frequency_categories(df, min_frequency = 100):\n",
    "    # Select categorical columns\n",
    "    categorical_cols = df.select_dtypes(include=['object', 'category']).columns.tolist()\n",
    "\n",
    "    # Group low-frequency categories\n",
    "    for col in categorical_cols:\n",
    "        value_counts = df[col].value_counts()\n",
    "        to_replace = value_counts[value_counts < min_frequency].index\n",
    "        df[col] = df[col].apply(lambda x: 'Other' if x in to_replace else x)\n",
    "    \n",
    "    return df"
   ]
  },
  {
   "cell_type": "markdown",
   "id": "2474d32f",
   "metadata": {},
   "source": [
    "### Creating a function that converts categorical variables by OneHotEncoder:"
   ]
  },
  {
   "cell_type": "code",
   "execution_count": 24,
   "id": "e8c3ac29",
   "metadata": {},
   "outputs": [],
   "source": [
    "def encode_categorical_variables(df):\n",
    "    # Select categorical columns\n",
    "    categorical_cols = df.select_dtypes(include = ['object', 'category']).columns.tolist()\n",
    "\n",
    "    # Create an instance of OneHotEncoder\n",
    "    encoder = OneHotEncoder(sparse = False, drop = 'first')\n",
    "\n",
    "    # Fit and transform the categorical columns\n",
    "    encoded_categorical = encoder.fit_transform(df[categorical_cols])\n",
    "\n",
    "    # Get feature names from encoder and create new column names\n",
    "    feature_names = encoder.get_feature_names_out(categorical_cols)\n",
    "\n",
    "    # Create a DataFrame from the encoded data with column names\n",
    "    encoded_df = pd.DataFrame(encoded_categorical, columns=feature_names)\n",
    "\n",
    "    # Drop original categorical columns from the DataFrame\n",
    "    df_encoded = df.drop(categorical_cols, axis=1)\n",
    "\n",
    "    # Concatenate the original DataFrame with the encoded DataFrame\n",
    "    df_encoded = pd.concat([df_encoded, encoded_df], axis=1)\n",
    "\n",
    "    return df_encoded"
   ]
  },
  {
   "cell_type": "markdown",
   "id": "3f676d42",
   "metadata": {},
   "source": [
    "### Creating a function to observe the data and extract information from it:"
   ]
  },
  {
   "cell_type": "code",
   "execution_count": 25,
   "id": "abd596bb",
   "metadata": {},
   "outputs": [],
   "source": [
    "def observe_data(df):\n",
    "    df = data_filling(df)\n",
    "    df = add_features(df)\n",
    "    df = group_low_frequency_categories(df)\n",
    "    df = encode_categorical_variables(df)\n",
    "    \n",
    "    return df"
   ]
  },
  {
   "cell_type": "markdown",
   "id": "9846ae3f",
   "metadata": {},
   "source": [
    "### <span style = \"color:blue\" > Data processing by observe_data(): </span> "
   ]
  },
  {
   "cell_type": "code",
   "execution_count": 26,
   "id": "7d9b8ce8",
   "metadata": {},
   "outputs": [],
   "source": [
    "observed_df = observe_data(cars_df)"
   ]
  },
  {
   "cell_type": "markdown",
   "id": "a14475ec",
   "metadata": {},
   "source": [
    "### Creating a heat map in order to understand which features contribute the most to the model:"
   ]
  },
  {
   "cell_type": "code",
   "execution_count": 27,
   "id": "bf152e07",
   "metadata": {},
   "outputs": [
    {
     "data": {
      "image/png": "[encoded data removed]",
      "text/plain": [
       "<Figure size 1000x400 with 2 Axes>"
      ]
     },
     "metadata": {},
     "output_type": "display_data"
    }
   ],
   "source": [
    "pps_matrix = pps.matrix(observed_df)\n",
    "\n",
    "threshold = 0.03\n",
    "pps_price = pps_matrix[(pps_matrix['y'] == 'Price') & (pps_matrix['ppscore'] > threshold)][['x', 'ppscore']].set_index('x')\n",
    "\n",
    "plt.figure(figsize=(10, 4))\n",
    "sns.heatmap(pps_price, annot=True, cmap='coolwarm', linewidths=0.5, vmin=threshold)\n",
    "plt.title(f'Predictive Power Score (PPS) of Features with Vehicle Price (Threshold: {threshold})')\n",
    "plt.show()"
   ]
  },
  {
   "cell_type": "markdown",
   "id": "cfb8f229",
   "metadata": {},
   "source": [
    "#### - **Year**: The year of manufacture shows a moderate predictive power (PPS = 0.3) in determining the vehicle price.\n",
    "  \n",
    "#### - **KM**: The kilometers driven per year have a weaker predictive power (PPS = 0.12) compared to other factors.\n",
    "  \n",
    "#### - **Supply**: The availability or supply score of vehicles demonstrates a moderate predictive power (PPS = 0.15) in influencing prices.\n",
    "  \n",
    "#### - **Vehicle Age**: The age of the vehicle (Vehicle Age) has a strong predictive power (PPS = 0.31) in determining its price, highlighting its significant impact.\n",
    "\n",
    "#### - **Age Category**: The category based on vehicle age (Age Category) shows a weaker predictive power (PPS = 0.14) compared to the vehicle's actual age."
   ]
  },
  {
   "cell_type": "code",
   "execution_count": 28,
   "id": "a6edfef4",
   "metadata": {},
   "outputs": [],
   "source": [
    "observed_X = observed_df.drop('Price', axis = 1)  # Features\n",
    "observed_y = observed_df['Price']  # Target variable\n",
    "column_names = observed_X.columns.tolist()"
   ]
  },
  {
   "cell_type": "code",
   "execution_count": 29,
   "id": "c53b8666",
   "metadata": {},
   "outputs": [
    {
     "name": "stdout",
     "output_type": "stream",
     "text": [
      "Year: 229.89\n",
      "Hand: 1.50\n",
      "capacity_Engine: 1.22\n",
      "Pic_num: 1.29\n",
      "Km: 12.80\n",
      "Supply_score: 1.16\n",
      "Vehicle_Age: 38.51\n",
      "Avg_Km_Per_Year: 11.20\n",
      "manufactor_הונדה: 1.22\n",
      "manufactor_יונדאי: 1.15\n",
      "manufactor_סקודה: 1.15\n",
      "manufactor_פולקסווגן: 1.14\n",
      "manufactor_קיה: 2.66\n",
      "model_פיקנטו: 2.61\n",
      "Gear_אוטומטית: 1.05\n",
      "Engine_type_בנזין: 1.19\n",
      "Prev_ownership_לא מוגדר: 180.76\n",
      "Prev_ownership_פרטית: 2.99\n",
      "Curr_ownership_לא מוגדר: inf\n",
      "Curr_ownership_פרטית: 34.85\n",
      "Area_ירושלים והסביבה: 3.83\n",
      "Area_nan: 1.06\n",
      "City_ירושלים: 3.79\n",
      "Color_לא מוגדר: inf\n",
      "Color_לבן: 1.33\n",
      "Color_שחור: 1.23\n",
      "Test_nan: 1.11\n",
      "Usage_Category_Below Range: 2.68\n",
      "Usage_Category_In Range: 1.94\n",
      "Age_Category_Other: 3.68\n",
      "Age_Category_Reasonable: 2.44\n"
     ]
    }
   ],
   "source": [
    "# Calculate VIF for each predictor\n",
    "vif_values = [variance_inflation_factor(observed_X.values, i) for i in range(observed_X.shape[1])]\n",
    "\n",
    "# Print column names and corresponding VIF values\n",
    "for col, vif in zip(column_names, vif_values):\n",
    "    print(f\"{col}: {vif:.2f}\")"
   ]
  },
  {
   "cell_type": "markdown",
   "id": "51e69e77",
   "metadata": {},
   "source": [
    "## <span style = \"color:blue\" >Summary of VIF Analysis for Model Features:</span>\n",
    "\n",
    "#### 1) **High VIF (Above 10)**:\n",
    "  - **Year**:<span style = \"background :yellow\"> Shows significant multicollinearity with other variables,</span> suggesting inflated variance in its coefficient estimate. Consider its necessity and apply regularization techniques if retained.\n",
    "\n",
    "#### 2) **Moderate VIF (Between 5 and 10)**:\n",
    "  - **Km**:<span style = \"background :yellow\"> Indicates moderate multicollinearity,</span> which may impact the stability of its coefficient estimate. Evaluate its importance and potential impact on model performance.\n",
    "\n",
    "#### 3) **Low VIF (Below 5)**:\n",
    "  - **Hand**, **capacity_Engine**, **Pic_num**, **Supply_score**, **Vehicle_Age**, and most categorical variables:<span style = \"background :yellow\"> These variables exhibit lower levels of multicollinearity,</span> contributing independently to the model."
   ]
  },
  {
   "cell_type": "markdown",
   "id": "9ee75e6b",
   "metadata": {},
   "source": [
    "## <span style = \"color:blue\" > The five characteristics with the greatest impact on prediction are: </span>\n",
    "\n",
    "#### 1) <span style = \"background :yellow\" > Vehicle_Age:</span> Negative influence. Older vehicles are priced lower.\n",
    "\n",
    "#### 2) <span style = \"background :yellow\" > Km:</span>Negative influence.  Higher mileage negatively impacts vehicle prices.\n",
    "\n",
    "#### 3) <span style = \"background :yellow\" > Hand:</span> Negative influence. Vehicles with fewer previous owners are generally priced higher.\n",
    "\n",
    "#### 4) <span style = \"background :yellow\" > Model:</span> The model of the vehicle has a great significance on its price. Models that are considered better will be significantly more expensive than other models.\n",
    "\n",
    "#### 5) <span style = \"background :yellow\" > Description:</span> From the tests we conducted, we found that the description has a strong meaning for the price of the vehicle."
   ]
  },
  {
   "cell_type": "code",
   "execution_count": 30,
   "id": "3d763d92",
   "metadata": {},
   "outputs": [],
   "source": [
    "def delete_columns(df):\n",
    "    columns_to_delete = [\"Year\", \"capacity_Engine\", \"Engine_type\", \"Prev_ownership,\" \"Curr_ownership\",\n",
    "                         \"Area\", \"City\", \"Pic_num\", \"Cre_date\", \"Repub_date\", \"Description\", \"Test\"]\n",
    "    \n",
    "    # Only drop columns that exist in the DataFrame\n",
    "    existing_columns_to_delete = [col for col in columns_to_delete if col in df.columns]\n",
    "    \n",
    "    if existing_columns_to_delete:\n",
    "        df = df.drop(existing_columns_to_delete, axis = 1)\n",
    "    \n",
    "    return df"
   ]
  },
  {
   "cell_type": "markdown",
   "id": "8d065aff",
   "metadata": {},
   "source": [
    "# <span style = \"color:blue\" > Creating the function prepare_data(): </span>"
   ]
  },
  {
   "cell_type": "code",
   "execution_count": 31,
   "id": "3dad38d9",
   "metadata": {},
   "outputs": [],
   "source": [
    "def prepare_data(df):\n",
    "    df = data_filling(df)\n",
    "    df = add_features(df)\n",
    "    df = delete_columns(df)\n",
    "    df = encode_categorical_variables(df)\n",
    "    \n",
    "    return df"
   ]
  },
  {
   "cell_type": "code",
   "execution_count": 32,
   "id": "90b75095",
   "metadata": {},
   "outputs": [],
   "source": [
    "cars_df = prepare_data(cars_df)"
   ]
  },
  {
   "cell_type": "markdown",
   "id": "c5b2ea95",
   "metadata": {},
   "source": [
    "# <span style = \"color:blue\" > Creating the model: </span> "
   ]
  },
  {
   "cell_type": "code",
   "execution_count": 33,
   "id": "67ce5f23",
   "metadata": {},
   "outputs": [],
   "source": [
    "X = cars_df.drop('Price', axis = 1) # Features\n",
    "y = cars_df['Price'] # Target variable"
   ]
  },
  {
   "cell_type": "code",
   "execution_count": 34,
   "id": "40036e67",
   "metadata": {},
   "outputs": [],
   "source": [
    "X_train, X_test, y_train, y_test = train_test_split(X, y, test_size = 0.2, random_state = 42)\n",
    "\n",
    "X_train = X_train.toarray() if isinstance(X_train, sparse.csr_matrix) else X_train\n",
    "X_test = X_test.toarray() if isinstance(X_test, sparse.csr_matrix) else X_test\n",
    "# If X_train or X_test is a sparse matrix, it will be converted to a dense array.\n",
    "# If X_train or X_test is already a dense array, it will remain as is."
   ]
  },
  {
   "cell_type": "code",
   "execution_count": 35,
   "id": "4c4063d4",
   "metadata": {},
   "outputs": [
    {
     "name": "stdout",
     "output_type": "stream",
     "text": [
      "Best parameters: {'alpha': 0.01, 'l1_ratio': 0.9}\n"
     ]
    }
   ],
   "source": [
    "elastic_net = ElasticNet(random_state = 42)\n",
    "\n",
    "# Define the grid of hyperparameters\n",
    "param_grid = {\n",
    "    'alpha': [0.01, 0.05, 0.15],\n",
    "    'l1_ratio': [0.7, 0.9]}\n",
    "\n",
    "# Set up the grid search\n",
    "grid_search = GridSearchCV(estimator = elastic_net, param_grid = param_grid, cv = 10,\n",
    "                           scoring = 'neg_mean_squared_error', n_jobs = -1)\n",
    "\n",
    "# Fit the grid search on the training data\n",
    "grid_search.fit(X_train, y_train)\n",
    "\n",
    "# Print the best hyperparameters\n",
    "print(f'Best parameters: {grid_search.best_params_}')\n",
    "\n",
    "# Get the best model\n",
    "best_elastic_net = grid_search.best_estimator_"
   ]
  },
  {
   "cell_type": "markdown",
   "id": "37d711f3",
   "metadata": {},
   "source": [
    "#### From a statistical test we conducted, we found that <span style = \"background :yellow\" > the best Alpha value for our model is 0.01 and the best Ratio is 0.9. </span>"
   ]
  },
  {
   "cell_type": "code",
   "execution_count": 36,
   "id": "f6e9359e",
   "metadata": {},
   "outputs": [
    {
     "name": "stdout",
     "output_type": "stream",
     "text": [
      "Root Mean Squared Error (RMSE) on test set: 10935.61\n"
     ]
    }
   ],
   "source": [
    "alpha = 0.01\n",
    "l1_ratio = 0.9\n",
    "elastic_net = ElasticNet(alpha = alpha, l1_ratio = l1_ratio, random_state = 42)\n",
    "\n",
    "elastic_net.fit(X_train, y_train)\n",
    "\n",
    "y_pred = elastic_net.predict(X_test)\n",
    "\n",
    "MSE = mse(y_test, y_pred)\n",
    "RMSE = np.sqrt(MSE)\n",
    "print(f'Root Mean Squared Error (RMSE) on test set: {RMSE:.2f}')"
   ]
  },
  {
   "cell_type": "markdown",
   "id": "ef89d088",
   "metadata": {},
   "source": [
    "#### Root Mean Squared Error (RMSE) on test set: <span style = \"background :yellow\" > 10,935.61 </span>"
   ]
  },
  {
   "cell_type": "markdown",
   "id": "2d79b967",
   "metadata": {},
   "source": [
    "# <span style = \"color:blue\" > Testing the model's performance by 10-fold-cross-validation: </span> "
   ]
  },
  {
   "cell_type": "code",
   "execution_count": 37,
   "id": "77035d44",
   "metadata": {},
   "outputs": [],
   "source": [
    "kf = KFold(n_splits = 10, shuffle = True, random_state = 42)\n",
    "\n",
    "elastic_net = ElasticNet(alpha = 0.01, l1_ratio = 0.9, random_state = 42)\n",
    "\n",
    "# Perform cross-validation\n",
    "mse_scores = cross_val_score(elastic_net, X, y, scoring = 'neg_mean_squared_error', cv = kf)\n",
    "rmse_scores = np.sqrt(-mse_scores)\n",
    "\n",
    "# Perform cross-validation\n",
    "r2_scores = cross_val_score(elastic_net, X, y, scoring = 'r2', cv = kf)"
   ]
  },
  {
   "cell_type": "code",
   "execution_count": 38,
   "id": "ee5c33f6",
   "metadata": {},
   "outputs": [],
   "source": [
    "n = len(X) # Number of observations\n",
    "p = len(X.columns) # Number of predictors\n",
    "\n",
    "avg_r2 = np.mean(r2_scores)\n",
    "\n",
    "adjusted_r2 = 1 - ((1 - avg_r2) * (n - 1) / (n - p - 1))"
   ]
  },
  {
   "cell_type": "code",
   "execution_count": 39,
   "id": "ba2b3509",
   "metadata": {},
   "outputs": [
    {
     "name": "stdout",
     "output_type": "stream",
     "text": [
      "Average Mean Squared Error (MSE): -163093481.75\n",
      "Average Root Mean Squared Error (RMSE): 12520.19\n",
      "Average R^2 Score: 0.67\n",
      "Adjusted R^2 Score: 0.5625\n"
     ]
    }
   ],
   "source": [
    "print(f'Average Mean Squared Error (MSE): {np.mean(mse_scores):.2f}')\n",
    "print(f'Average Root Mean Squared Error (RMSE): {np.mean(rmse_scores):.2f}')\n",
    "print(f'Average R^2 Score: {np.mean(r2_scores):.2f}')\n",
    "print(f'Adjusted R^2 Score: {adjusted_r2:.4f}')"
   ]
  },
  {
   "cell_type": "markdown",
   "id": "15598d49",
   "metadata": {},
   "source": [
    "> #### Average Mean Squared Error (MSE): <span style = \"background :yellow\" > -163,093,481.75</span>\n",
    "> #### Average Root Mean Squared Error (RMSE): <span style = \"background :yellow\" > 12,520.19</span>\n",
    "> #### Average R^2 Score: <span style = \"background :yellow\" > 0.67</span>\n",
    "> #### Average Adjusted R^2 Score: <span style = \"background :yellow\" > 0.5625</span>"
   ]
  },
  {
   "cell_type": "markdown",
   "id": "fb30a144",
   "metadata": {},
   "source": [
    "# <span style = \"color:red\" >Note</span> \n",
    "> #### <span style = \"color:red\" >During the construction of the model, we initially achieved better error metrics than the currently submitted model.</span>\n",
    "> #### <span style = \"color:red\" >However, these improvements resulted in an Adjusted R^2 value greater than 1, indicating overfitting.</span>\n",
    "\n",
    "> #### <span style = \"color:red\" >To address this, we deleted several features to achieve a more appropriate Adjusted R^2 value.</span>\n",
    "> #### <span style = \"color:red\" > While some of the deleted features were previously identified as significantly affecting the model, we prioritized reducing overfitting to ensure better generalization.</span>\n",
    "> #### <span style = \"color:red\" > Therefore, the conclusion that these features are significant remains valid, despite their removal to avoid overfitting</span>"
   ]
  }
 ],
 "metadata": {
  "kernelspec": {
   "display_name": "Python 3 (ipykernel)",
   "language": "python",
   "name": "python3"
  },
  "language_info": {
   "codemirror_mode": {
    "name": "ipython",
    "version": 3
   },
   "file_extension": ".py",
   "mimetype": "text/x-python",
   "name": "python",
   "nbconvert_exporter": "python",
   "pygments_lexer": "ipython3",
   "version": "3.11.7"
  }
 },
 "nbformat": 4,
 "nbformat_minor": 5
}
